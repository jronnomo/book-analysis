with open("miracle_in_the_andes.txt", "r") as file:
    book = file.read()





import re


pattern = re.compile("[a-zA-Z]+")
findings = re.findall(pattern, book.lower())
d = {}
for word in findings:
    if word in d.keys():
        d[word] = d[word] + 1
    else:
        d[word] = 1
d_list = [(value, key) for (key, value) in d.items()]
d_list.sort(reverse=True)
d_list[:5]


!pip3.10 install nltk -t /Users/ggronnii/Desktop/Development/python/app8-natural-lang-proc/venv/lib/python3.10/site-packages/nltk/


import nltk


from nltk.corpus import stopwords


english_stopwords = stopwords.words("english")


english_stopwords[:10]


filtered_words = []
for count, word in d_list:
    if word not in english_stopwords:
        filtered_words.append((count, word))


filtered_words[:10]





from nltk.sentiment import SentimentIntensityAnalyzer
nltk.download('vader_lexicon')


analyzer = SentimentIntensityAnalyzer()


pattern = re.compile("Chapter [0-9]+")
chapters = re.split(pattern, book)[1:]


for chapter in chapters:
    scores = analyzer.polarity_scores(chapter)
    print(scores)
