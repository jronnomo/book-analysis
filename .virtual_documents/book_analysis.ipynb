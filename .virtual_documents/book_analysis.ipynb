


with open("miracle_in_the_andes.txt", "r") as file:
    book = file.read()


type(book)








book.count("Chapter")





import re


pattern = re.compile("Chapter [0-9]+")
findings = re.findall(pattern, book)
len(findings)


pattern





pattern = re.compile("[A-Z]{1}[^.]*[^a-z^A-Z]+love[^a-z^A-Z][^.]*.")
findings = re.findall(pattern, book)
len(findings)
findings





pattern = re.compile("[a-zA-Z]+")
findings = re.findall(pattern, book.lower())
findings[:5]


d = {}
for word in findings:
    if word in d.keys():
        d[word] = d[word] + 1
    else:
        d[word] = 1


d["chapter"]


d_list = [(value, key) for (key, value) in d.items()]
d_list.sort(reverse=True)
d_list[:5]
