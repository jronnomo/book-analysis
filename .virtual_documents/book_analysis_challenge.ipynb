


with open("miracle_in_the_andes.txt", "r") as file:
    book = file.read()


book[:500]





import re
pattern = re.compile("[^\n]+love[^\n]+")
findings = re.findall(pattern, book)
len(findings)





pattern = re.compile("[\n][a-zA-Z ]+[\n]")
findings = re.findall(pattern, book)
findings = [word.strip('\n') for word in findings]
findings





pattern = re.compile("[a-zA-Z]+")
findings = re.findall(pattern, book.lower())
findings[:5]


d = {}
for word in findings:
    if word in d.keys():
        d[word] = d[word] + 1
    else:
        d[word] = 1
d_list = [(value, key) for (key, value) in d.items()]
d_list[:5]


def findOccurance(word):
    pattern = re.compile("[a-zA-Z]+")
    findings = re.findall(pattern, book.lower())
    d = {}
    for w in findings:
        if w in d.keys():
            d[w] = d[w] + 1
        else:
            d[w] = 1
    try:
        return d[word]
    except:
        return f"book doesn't contain the word {word}"





findOccurance("love")
