


with open("miracle_in_the_andes.txt", "r") as file:
    book = file.read()


type(book)








book.count("Chapter")





import re


pattern = re.compile("Chapter [0-9]+")
findings = re.findall(pattern, book)
len(findings)


pattern





patter
