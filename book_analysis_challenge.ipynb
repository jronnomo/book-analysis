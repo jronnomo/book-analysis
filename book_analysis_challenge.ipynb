{
 "cells": [
  {
   "cell_type": "markdown",
   "id": "8ec8d90e-a4a2-4ffc-8182-59847a06e25c",
   "metadata": {},
   "source": [
    "# Load the book"
   ]
  },
  {
   "cell_type": "code",
   "execution_count": 1,
   "id": "f0a8a6cc-854b-4594-a39e-b05a36d96475",
   "metadata": {},
   "outputs": [],
   "source": [
    "with open(\"miracle_in_the_andes.txt\", \"r\") as file:\n",
    "    book = file.read()"
   ]
  },
  {
   "cell_type": "code",
   "execution_count": 2,
   "id": "b3538e2c-a6db-4297-b3a2-1700d919d12f",
   "metadata": {},
   "outputs": [
    {
     "data": {
      "text/plain": [
       "'Chapter 1\\n\\nBefore\\n\\n\\nIT WAS FRIDAY, the thirteenth of October. We joked about that—flying over the Andes on such an unlucky day, but young men make those kinds of jokes so easily. Our flight had originated one day earlier in Montevideo, my hometown, its destination Santiago, Chile. It was a chartered flight on a Fairchild twin-engine turboprop carrying my rugby team—the Old Christians Rugby Club—to play an exhibition match against a top Chilean squad. There were forty-five people aboard, includin'"
      ]
     },
     "execution_count": 2,
     "metadata": {},
     "output_type": "execute_result"
    }
   ],
   "source": [
    "book[:500]"
   ]
  },
  {
   "cell_type": "markdown",
   "id": "110d6d8a-242e-407d-84c8-8fa410435f12",
   "metadata": {},
   "source": [
    "# Extract paragraphs that contain word \"love\""
   ]
  },
  {
   "cell_type": "code",
   "execution_count": 3,
   "id": "d40c85b3-40d3-469b-a7eb-4f88db9324cc",
   "metadata": {},
   "outputs": [
    {
     "data": {
      "text/plain": [
       "60"
      ]
     },
     "execution_count": 3,
     "metadata": {},
     "output_type": "execute_result"
    }
   ],
   "source": [
    "import re\n",
    "pattern = re.compile(\"[^\\n]+love[^\\n]+\")\n",
    "findings = re.findall(pattern, book)\n",
    "len(findings)"
   ]
  },
  {
   "cell_type": "markdown",
   "id": "c692bc2e-2548-48ac-833d-8d7839f4b047",
   "metadata": {},
   "source": [
    "# Extract the chapter titles"
   ]
  },
  {
   "cell_type": "code",
   "execution_count": 4,
   "id": "6f746ece-9ba3-4eb1-94f1-11ab0dd702ad",
   "metadata": {},
   "outputs": [
    {
     "data": {
      "text/plain": [
       "['Before',\n",
       " 'Everything Precious',\n",
       " 'A Promise',\n",
       " 'Breathe Once More',\n",
       " 'Abandoned',\n",
       " 'Tomb',\n",
       " 'East',\n",
       " 'The Opposite of Death',\n",
       " 'I See a Man',\n",
       " 'After']"
      ]
     },
     "execution_count": 4,
     "metadata": {},
     "output_type": "execute_result"
    }
   ],
   "source": [
    "pattern = re.compile(\"[\\n][a-zA-Z ]+[\\n]\")\n",
    "findings = re.findall(pattern, book)\n",
    "findings = [word.strip('\\n') for word in findings]\n",
    "findings"
   ]
  },
  {
   "cell_type": "markdown",
   "id": "be8741ee-4e10-48f1-845d-50821f2e08ce",
   "metadata": {},
   "source": [
    "# Function that finds the occurance of any words"
   ]
  },
  {
   "cell_type": "code",
   "execution_count": 5,
   "id": "c57d98e6-91fc-40f4-9b7d-507ec0a116e9",
   "metadata": {},
   "outputs": [
    {
     "data": {
      "text/plain": [
       "['chapter', 'before', 'it', 'was', 'friday']"
      ]
     },
     "execution_count": 5,
     "metadata": {},
     "output_type": "execute_result"
    }
   ],
   "source": [
    "pattern = re.compile(\"[a-zA-Z]+\")\n",
    "findings = re.findall(pattern, book.lower())\n",
    "findings[:5]"
   ]
  },
  {
   "cell_type": "code",
   "execution_count": 6,
   "id": "436c577c-f621-4bcc-823e-8c5edad9a9be",
   "metadata": {},
   "outputs": [
    {
     "data": {
      "text/plain": [
       "[(11, 'chapter'), (93, 'before'), (800, 'it'), (1430, 'was'), (1, 'friday')]"
      ]
     },
     "execution_count": 6,
     "metadata": {},
     "output_type": "execute_result"
    }
   ],
   "source": [
    "d = {}\n",
    "for word in findings:\n",
    "    if word in d.keys():\n",
    "        d[word] = d[word] + 1\n",
    "    else:\n",
    "        d[word] = 1\n",
    "d_list = [(value, key) for (key, value) in d.items()]\n",
    "d_list[:5]"
   ]
  },
  {
   "cell_type": "code",
   "execution_count": 11,
   "id": "cbb52619-ff09-467f-a9bb-51691e7cbc2f",
   "metadata": {},
   "outputs": [],
   "source": [
    "def findOccurance(word):\n",
    "    pattern = re.compile(\"[a-zA-Z]+\")\n",
    "    findings = re.findall(pattern, book.lower())\n",
    "    d = {}\n",
    "    for w in findings:\n",
    "        if w in d.keys():\n",
    "            d[w] = d[w] + 1\n",
    "        else:\n",
    "            d[w] = 1\n",
    "    try:\n",
    "        return d[word]\n",
    "    except:\n",
    "        return f\"book doesn't contain the word {word}\""
   ]
  },
  {
   "cell_type": "markdown",
   "id": "68a898a1-c8c8-4a4f-90f1-a110d0222bfe",
   "metadata": {},
   "source": [
    "# Call the function"
   ]
  },
  {
   "cell_type": "code",
   "execution_count": 13,
   "id": "c50415e5-7ddf-43c6-b2e7-57041261bda9",
   "metadata": {},
   "outputs": [
    {
     "data": {
      "text/plain": [
       "83"
      ]
     },
     "execution_count": 13,
     "metadata": {},
     "output_type": "execute_result"
    }
   ],
   "source": [
    "findOccurance(\"love\")"
   ]
  }
 ],
 "metadata": {
  "kernelspec": {
   "display_name": "Python 3 (ipykernel)",
   "language": "python",
   "name": "python3"
  },
  "language_info": {
   "codemirror_mode": {
    "name": "ipython",
    "version": 3
   },
   "file_extension": ".py",
   "mimetype": "text/x-python",
   "name": "python",
   "nbconvert_exporter": "python",
   "pygments_lexer": "ipython3",
   "version": "3.11.5"
  }
 },
 "nbformat": 4,
 "nbformat_minor": 5
}
